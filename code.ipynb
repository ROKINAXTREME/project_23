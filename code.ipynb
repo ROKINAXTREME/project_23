# project_23 code
dict1={'name':'Aarav', 'age':12, 'alias':'Aarav'}
for i in dict1:
    a=dict1[i]
    b=dict1[i]
    c=dict1[i]
if a==b or a==c:
    print("your name is equal to somthing else.")
elif b==a or b==c:
    print("your age is equal to somthing else.")
elif c==b or c==a:
    print("your alias is equal to somthing else.")
else:
    print("you are unique!")
